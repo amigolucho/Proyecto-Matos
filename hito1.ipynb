{
 "cells": [
  {
   "cell_type": "markdown",
   "id": "f991ada1",
   "metadata": {},
   "source": [
    "# Hito 1 Minería de Datos\n",
    "## Datos astronómicos del SDSS DR 10"
   ]
  },
  {
   "cell_type": "markdown",
   "id": "0f0fa510",
   "metadata": {},
   "source": [
    "### Introducción\n",
    " - preguntas\n",
    " - motivación"
   ]
  },
  {
   "cell_type": "markdown",
   "id": "d51c463e",
   "metadata": {},
   "source": [
    "### Exploración de datos\n",
    "- estadísticas\n",
    "- patrones iniciales"
   ]
  },
  {
   "cell_type": "markdown",
   "id": "c65d6755",
   "metadata": {},
   "source": [
    "### Propuesta experimental\n",
    "- estrategia metodologica"
   ]
  },
  {
   "cell_type": "markdown",
   "id": "478cdf67",
   "metadata": {},
   "source": [
    "### Experimento preliminar\n",
    "- implementación y análisis de resultados"
   ]
  },
  {
   "cell_type": "markdown",
   "id": "f11d1c67",
   "metadata": {},
   "source": [
    "### Anexos (opcional)\n",
    "- graficos y códigos complementarios"
   ]
  },
  {
   "cell_type": "code",
   "execution_count": null,
   "id": "6bdc224c",
   "metadata": {},
   "outputs": [
    {
     "name": "stdout",
     "output_type": "stream",
     "text": [
      "Cantidad de datos originalmente (3602210, 17)\n",
      "Cantidad de datos sin nan (163820, 17)\n"
     ]
    }
   ],
   "source": [
    "import gzip\n",
    "import pandas as pd\n",
    "\n",
    "import warnings\n",
    "warnings.simplefilter(action='ignore', category=FutureWarning)\n",
    "warnings.simplefilter(action='ignore', category=pd.errors.DtypeWarning)\n",
    "\n",
    "# Definiendo las columnas pues los datos no las traen\n",
    "columnas = [\"objID\", \"RAdeg\", \"Dedeg\", \n",
    "            \"umag\", \"gmag\", \"rmag\", \"imag\", \"zmag\", \n",
    "            \"u'mag\", \"g'mag\", \"r'mag\", \"i'mag\", \"z'mag\",\n",
    "            \"specID\", \"sublass\", \"z\", \"Qf\"]\n",
    "\n",
    "with gzip.open(\"dame_qso.dat.gz\", \"rt\") as f:\n",
    "    df = pd.read_csv(f, delim_whitespace=True, names=columnas, comment='#')\n",
    "print(f\"Cantidad de datos originalmente {df.shape}\")\n",
    "df.dropna(inplace=True)\n",
    "print(f\"Cantidad de datos sin nan {df.shape}\")"
   ]
  }
 ],
 "metadata": {
  "kernelspec": {
   "display_name": "base",
   "language": "python",
   "name": "python3"
  },
  "language_info": {
   "codemirror_mode": {
    "name": "ipython",
    "version": 3
   },
   "file_extension": ".py",
   "mimetype": "text/x-python",
   "name": "python",
   "nbconvert_exporter": "python",
   "pygments_lexer": "ipython3",
   "version": "3.12.3"
  }
 },
 "nbformat": 4,
 "nbformat_minor": 5
}
