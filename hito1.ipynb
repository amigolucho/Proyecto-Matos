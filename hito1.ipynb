{
 "cells": [
  {
   "cell_type": "markdown",
   "id": "f991ada1",
   "metadata": {},
   "source": [
    "# Hito 1 Minería de Datos\n",
    "## Datos astronómicos del SDSS DR 10"
   ]
  },
  {
   "cell_type": "markdown",
   "id": "0f0fa510",
   "metadata": {},
   "source": [
    "### Introducción\n",
    "En el ámbito de la astronomía, el estudio de la evolución cósmica requiere que identifiquemos cuáles objetos en el cielo están más cerca, las estrellas y galaxias, o galaxias con un alto redshift y agujeros negros supermasivos (los denominados QSOs).\n",
    "\n",
    "Por un lado, la espectroscopía puede ser usada para medir redshifts de los diferentes objetos cósmicos, y poder diferenciar entre los diferentes tipos de fuentes, sin embargo la mayoría surveys deben caracterizar los objetos solamente basandose en la medición de imágenes.\n",
    "\n",
    "Nuestra pregunta de investigación es ¿Podemos classificar y predecir el redshift de objetos usando fotometría?"
   ]
  },
  {
   "cell_type": "markdown",
   "id": "d51c463e",
   "metadata": {},
   "source": [
    "### Exploración de datos\n",
    "\n",
    "Los datos usados para este proyecto es el SDSS DR 10 (link?), el cual posee más de 3 millones de espectros públicos con información relevante. \n",
    "\n",
    "- estadisticas\n",
    "- patrones iniciales"
   ]
  },
  {
   "cell_type": "markdown",
   "id": "c65d6755",
   "metadata": {},
   "source": [
    "### Propuesta experimental\n",
    "- estrategia metodologica"
   ]
  },
  {
   "cell_type": "markdown",
   "id": "478cdf67",
   "metadata": {},
   "source": [
    "### Experimento preliminar\n",
    "- implementación y análisis de resultados"
   ]
  },
  {
   "cell_type": "markdown",
   "id": "f11d1c67",
   "metadata": {},
   "source": [
    "### Anexos (opcional)\n",
    "- graficos y códigos complementarios"
   ]
  },
  {
   "cell_type": "code",
   "execution_count": 23,
   "id": "6bdc224c",
   "metadata": {},
   "outputs": [
    {
     "name": "stdout",
     "output_type": "stream",
     "text": [
      "Cantidad de datos originalmente (3602210, 17)\n",
      "Cantidad de datos sin nan (3602210, 17)\n"
     ]
    }
   ],
   "source": [
    "import gzip\n",
    "import pandas as pd\n",
    "\n",
    "import warnings\n",
    "warnings.simplefilter(action='ignore', category=FutureWarning)\n",
    "warnings.simplefilter(action='ignore', category=pd.errors.DtypeWarning)\n",
    "\n",
    "# Definiendo las columnas pues los datos no las traen\n",
    "columnas = [\"objID\", \"RAdeg\", \"Dedeg\", \n",
    "            \"umag\", \"gmag\", \"rmag\", \"imag\", \"zmag\", \n",
    "            \"u'mag\", \"g'mag\", \"r'mag\", \"i'mag\", \"z'mag\",\n",
    "            \"specID\", \"subclass\", \"z\", \"Qf\"]\n",
    "\n",
    "with gzip.open(\"dame_qso.dat.gz\", \"rt\") as f:\n",
    "    df = pd.read_csv(f, delim_whitespace=True, names=columnas, comment='#')\n",
    "print(f\"Cantidad de datos originalmente {df.shape}\")\n",
    "#df.dropna(inplace=True)\n",
    "print(f\"Cantidad de datos sin nan {df.shape}\")"
   ]
  },
  {
   "cell_type": "code",
   "execution_count": 16,
   "id": "2596f0b1",
   "metadata": {},
   "outputs": [
    {
     "data": {
      "text/plain": [
       "(3602210, 17)"
      ]
     },
     "execution_count": 16,
     "metadata": {},
     "output_type": "execute_result"
    }
   ],
   "source": [
    "df.shape"
   ]
  },
  {
   "cell_type": "code",
   "execution_count": null,
   "id": "3d567eee",
   "metadata": {},
   "outputs": [],
   "source": [
    "# Nos aseguramos que es una subclase válida\n",
    "subclases = [\"BROADLINE\",\"STARBURST\" ,\"STARBURST_BROADLINE\" , \"STARFORMING\", \"STARFORMING_BROADLINE\", \"AGN\", \"AGN_BROADLINE\"]\n",
    "df = df[df[\"subclass\"].isin(subclases)]"
   ]
  },
  {
   "cell_type": "code",
   "execution_count": 27,
   "id": "3298ce62",
   "metadata": {},
   "outputs": [
    {
     "data": {
      "text/plain": [
       "(163820, 17)"
      ]
     },
     "execution_count": 27,
     "metadata": {},
     "output_type": "execute_result"
    }
   ],
   "source": [
    "df.shape"
   ]
  },
  {
   "cell_type": "code",
   "execution_count": 3,
   "id": "ac26051d",
   "metadata": {},
   "outputs": [],
   "source": [
    "from sklearn.neural_network import MLPClassifier\n",
    "clf = MLPClassifier(hidden_layer_sizes=(128,64),\n",
    "                    solver='lbfgs',   # L-BFGS ≈ Quasi-Newton\n",
    "                    alpha=1e-5,\n",
    "                    max_iter=1000,\n",
    "                    random_state=42)"
   ]
  }
 ],
 "metadata": {
  "kernelspec": {
   "display_name": "base",
   "language": "python",
   "name": "python3"
  },
  "language_info": {
   "codemirror_mode": {
    "name": "ipython",
    "version": 3
   },
   "file_extension": ".py",
   "mimetype": "text/x-python",
   "name": "python",
   "nbconvert_exporter": "python",
   "pygments_lexer": "ipython3",
   "version": "3.12.3"
  }
 },
 "nbformat": 4,
 "nbformat_minor": 5
}
